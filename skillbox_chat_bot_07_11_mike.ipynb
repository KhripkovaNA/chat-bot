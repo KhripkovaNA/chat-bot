{
  "nbformat": 4,
  "nbformat_minor": 0,
  "metadata": {
    "colab": {
      "provenance": [],
      "collapsed_sections": [],
      "include_colab_link": true
    },
    "kernelspec": {
      "name": "python3",
      "display_name": "Python 3"
    },
    "language_info": {
      "name": "python"
    }
  },
  "cells": [
    {
      "cell_type": "markdown",
      "metadata": {
        "id": "view-in-github",
        "colab_type": "text"
      },
      "source": [
        "<a href=\"https://colab.research.google.com/github/KhripkovaNA/chat-bot/blob/main/skillbox_chat_bot_07_11_mike.ipynb\" target=\"_parent\"><img src=\"https://colab.research.google.com/assets/colab-badge.svg\" alt=\"Open In Colab\"/></a>"
      ]
    },
    {
      "cell_type": "markdown",
      "source": [
        "### Нажмите Copy ↑, укажите свое имя"
      ],
      "metadata": {
        "id": "Hd-jHxGYPYD6"
      }
    },
    {
      "cell_type": "markdown",
      "source": [
        "# День 1: \n",
        "*   Язык Python\n",
        "*   Архитектура чат ботов"
      ],
      "metadata": {
        "id": "ppsIrKbyJDTJ"
      }
    },
    {
      "cell_type": "markdown",
      "source": [
        "\n",
        "#### Наш первый Чат-бот, поздоровайтесь\n",
        "`{Вопрос на входе}` => `{Алгоритм ответа}` => `{Ответ на выходе}`\n",
        "\n",
        "---\n",
        "Простейший алгоритм — это поиск по базе известных вопросов и ответов.\n"
      ],
      "metadata": {
        "id": "mW1tlQcAJRmA"
      }
    },
    {
      "cell_type": "code",
      "source": [
        "import random"
      ],
      "metadata": {
        "id": "jHwSOC-8InIo"
      },
      "execution_count": null,
      "outputs": []
    },
    {
      "cell_type": "code",
      "execution_count": null,
      "metadata": {
        "colab": {
          "base_uri": "https://localhost:8080/"
        },
        "id": "ePQvZ6EHH75B",
        "outputId": "179c6191-ec8c-4159-bb5a-bff1fd669fea"
      },
      "outputs": [
        {
          "output_type": "stream",
          "name": "stdout",
          "text": [
            "Хеллоу\n",
            "Приветики\n"
          ]
        }
      ],
      "source": [
        "text = input()\n",
        "if text in [\"Привет\", \"Здарова\", \"Хеллоу\"]:\n",
        "  print(random.choice([\"Здрасте\", \"Йоу\", \"Приветики\"]))\n",
        "elif text in [\"Пока\", \"Увидимся\", \"Чао\"]:\n",
        "  print(random.choice([\"Буду ждать нашей встречи\", \"Ок\", \"Бай-бай\"]))\n",
        "else:\n",
        "  print(\"Не понял\")\n",
        "\n",
        "\n"
      ]
    },
    {
      "cell_type": "code",
      "source": [
        "# input = ввод данных от пользователя\n",
        "# random.choice = выбор случайного элемента из списка\n",
        "# print = вывод на экран"
      ],
      "metadata": {
        "id": "2zFRQu_YQ2K5"
      },
      "execution_count": null,
      "outputs": []
    },
    {
      "cell_type": "markdown",
      "source": [
        "# \"Питон\" vs. \"Пайтон\""
      ],
      "metadata": {
        "id": "bOI1TaBwO57Q"
      }
    },
    {
      "cell_type": "code",
      "source": [
        "# Коротко о Python\n",
        "# Вам понадобятся: немного синтаксиса, функции, переменные\n",
        "speaker = \"Mike\"\n",
        "duration = 90\n",
        "\n",
        "print(\"Hello World\")\n",
        "# f - форматированные строки\n",
        "print(\"Сегодня эфир ведет {speaker}, длительность: {duration} минут\")\n",
        "print(f\"Сегодня эфир ведет {speaker}, длительность: {duration} минут\")"
      ],
      "metadata": {
        "id": "HhC8z1yJN1ai",
        "colab": {
          "base_uri": "https://localhost:8080/"
        },
        "outputId": "0c053af1-ddd1-4717-a6bd-698db21d3ba6"
      },
      "execution_count": null,
      "outputs": [
        {
          "output_type": "stream",
          "name": "stdout",
          "text": [
            "Hello World\n",
            "Сегодня эфир ведет {speaker}, длительность: {duration} минут\n",
            "Сегодня эфир ведет Mike, длительность: 90 минут\n"
          ]
        }
      ]
    },
    {
      "cell_type": "markdown",
      "source": [
        "# Алгоритм ответа\n",
        "1.   Если вопрос это что-то типа \"*Привет*\" или \"*Здарова*\" ну или там \"*Хеллоу*\"\n",
        "2.   То ответить случайной фразой вроде \"**Йоу**\", \"**Приветики**\" или \"**Здрасте**\""
      ],
      "metadata": {
        "id": "tysEo2EaLV9V"
      }
    },
    {
      "cell_type": "markdown",
      "source": [
        "# Определение \"намерения\" пользователя (англ. intent, интент)"
      ],
      "metadata": {
        "id": "Ue7KMxxnCRty"
      }
    },
    {
      "cell_type": "code",
      "source": [
        "# Списки - возможность записать несколько кусочков данных (элементы массива) в одну переменную\n",
        "visitors = [\"Наталья Сун\", \"без ника\", \"Polina Kurochkina\"]\n",
        "print(visitors[1])"
      ],
      "metadata": {
        "colab": {
          "base_uri": "https://localhost:8080/"
        },
        "id": "89048wZvYH21",
        "outputId": "18ff15a4-9fb2-4465-e9b5-7a1139ea8a72"
      },
      "execution_count": null,
      "outputs": [
        {
          "output_type": "stream",
          "name": "stdout",
          "text": [
            "без ника\n"
          ]
        }
      ]
    },
    {
      "cell_type": "code",
      "source": [
        "# Словари / Dict / Хэш-Таблицы / Объекты\n",
        "webinar = {\n",
        "    \"title\": \"Знакомимся с Пайтон\",\n",
        "    \"speaker\": \"Mike\",\n",
        "    \"duration\": 90,\n",
        "}\n",
        "print(webinar[\"title\"])"
      ],
      "metadata": {
        "colab": {
          "base_uri": "https://localhost:8080/"
        },
        "id": "6GA2-DadY4n-",
        "outputId": "65359b81-9c54-463b-ff3d-3d59c7fc61f7"
      },
      "execution_count": null,
      "outputs": [
        {
          "output_type": "stream",
          "name": "stdout",
          "text": [
            "Знакомимся с Пайтон\n"
          ]
        }
      ]
    },
    {
      "cell_type": "code",
      "source": [
        "# Составим карты \"намерений\", которые поддерживает наш бот\n",
        "# examples - фразы на которые реагирует бот\n",
        "# response - фразы которыми бот отчвечает\n",
        "INTENTS = {\n",
        "    \"hello\": {\n",
        "        \"examples\": [\"Привет\", \"Йо\", \"Хеллоу\", \"Здравствуйте\"],\n",
        "        \"response\": [\"Здрасте\", \"Приветик\", \"Я соскучился\"],\n",
        "    },\n",
        "    \"how_are_you\": {\n",
        "        \"examples\": [\"Как дела\", \"Как сам\", \"Чо по настроению\", \"Ты в ресурсе\"],\n",
        "        \"response\": [\"Дела отлично\", \"Лучше всех\", \"Я красавчик и меня очень любит мама\"],\n",
        "    },\n",
        "}"
      ],
      "metadata": {
        "id": "m1Y2iyVSCFLx"
      },
      "execution_count": null,
      "outputs": []
    },
    {
      "cell_type": "markdown",
      "source": [
        "Сложность — в том чтобы сравнить **Текст Пользователя** и текст в программе."
      ],
      "metadata": {
        "id": "26m8fK1GN4m3"
      }
    },
    {
      "cell_type": "markdown",
      "source": [
        "IndentationError - ошибка отсупов\n",
        "\n",
        "SyntaxError - нарушения синтаксиса (правил языка)"
      ],
      "metadata": {
        "id": "mQ1nyYxhgpnj"
      }
    },
    {
      "cell_type": "code",
      "source": [
        "import re\n",
        "from nltk import edit_distance \n",
        "# Расстояние Левенштейна, мера того насколько строки отличаются\n",
        "\n",
        "# \"   ABC   \" => \"abc\"\n",
        "# \"Hello, my friend!!! How are YOU?:)\" => \"hello my friend how are you\"\n",
        "def filter_text(text):\n",
        "    # К нижнему регистру \"ABC\" => \"abc\"\n",
        "    text = text.lower()\n",
        "    # strip - \" abc \" => \"abc\"\n",
        "    text = text.strip()\n",
        "    # Найти все знаки препинания и заменить их на пустоту \"\"\n",
        "    # [^ ] - \"набор символов кроме\"\n",
        "    # \\w - символы из которых состоят слова (word) = a-z0-9\n",
        "    # \\s - символы пробела (space) = \\t \\r \\n \\s\n",
        "    expression = r\"[^\\w\\s]\"\n",
        "    text = re.sub(expression, \"\", text)\n",
        "    return text\n",
        "\n",
        "\n",
        "def text_match(user_text, example):\n",
        "    user_text = filter_text(user_text)\n",
        "    example = filter_text(example)\n",
        "    # Задание\n",
        "    # Дописать функцию так, чтобы все примеры ниже работали\n",
        "    distance = edit_distance(user_text, example)\n",
        "    if distance >= 3:\n",
        "        return False\n",
        "    \n",
        "    # Посчитаем среднюю длину из двух фраз\n",
        "    avg_len = ( len(example) + len(user_text) ) / 2\n",
        "    # Процент опечаток\n",
        "    ratio = distance / avg_len\n",
        "    if ratio > 0.4:\n",
        "        return False # Больше 40% слова опечаталось - значит фразы не совпадают\n",
        "    else:\n",
        "        return True\n",
        "    # return ration > 0.4"
      ],
      "metadata": {
        "id": "v68CYBmmMwwu"
      },
      "execution_count": null,
      "outputs": []
    },
    {
      "cell_type": "code",
      "source": [
        "# Опечатки (ToDo: levenstein)\n",
        "text_match(\"Константинопольский\", \"Констатнинопольский\")"
      ],
      "metadata": {
        "colab": {
          "base_uri": "https://localhost:8080/"
        },
        "id": "d9gU6QhvOY17",
        "outputId": "4a5843bc-5cb3-4135-e606-42e38648d816"
      },
      "execution_count": null,
      "outputs": [
        {
          "output_type": "execute_result",
          "data": {
            "text/plain": [
              "True"
            ]
          },
          "metadata": {},
          "execution_count": 75
        }
      ]
    },
    {
      "cell_type": "code",
      "source": [
        "text_match(\"Мир\", \"Мам\")"
      ],
      "metadata": {
        "colab": {
          "base_uri": "https://localhost:8080/"
        },
        "id": "dIj0s5sUoZSc",
        "outputId": "f9d4087d-60f7-4e43-bd04-4acfa14362e9"
      },
      "execution_count": null,
      "outputs": [
        {
          "output_type": "execute_result",
          "data": {
            "text/plain": [
              "False"
            ]
          },
          "metadata": {},
          "execution_count": 73
        }
      ]
    },
    {
      "cell_type": "code",
      "source": [
        "text_match(\"Привет\", \"Превед\")"
      ],
      "metadata": {
        "colab": {
          "base_uri": "https://localhost:8080/"
        },
        "id": "Tcw2xsl1octp",
        "outputId": "5d5f7bd5-b0db-434a-8159-c97c70fb7ab7"
      },
      "execution_count": null,
      "outputs": [
        {
          "output_type": "execute_result",
          "data": {
            "text/plain": [
              "True"
            ]
          },
          "metadata": {},
          "execution_count": 74
        }
      ]
    },
    {
      "cell_type": "code",
      "source": [],
      "metadata": {
        "id": "XnPYQ6WAnKxY"
      },
      "execution_count": null,
      "outputs": []
    },
    {
      "cell_type": "code",
      "source": [
        "# edit_distance(\"мама\", \"мама\")\n",
        "# edit_distance(\"мама\", \"мам\")\n",
        "# edit_distance(\"мамы\", \"мама\")\n",
        "edit_distance(\"Привет\", \"Чемодан\") \n",
        "# Не более 2 опечаток или 40% "
      ],
      "metadata": {
        "colab": {
          "base_uri": "https://localhost:8080/"
        },
        "id": "ybbYE_60mKWE",
        "outputId": "7ac9ec13-5972-482e-fcc2-44662969c75c"
      },
      "execution_count": null,
      "outputs": [
        {
          "output_type": "execute_result",
          "data": {
            "text/plain": [
              "7"
            ]
          },
          "metadata": {},
          "execution_count": 66
        }
      ]
    },
    {
      "cell_type": "code",
      "source": [
        "filter_text(\"Hello, my friend!!! How are YOU?:)\")"
      ],
      "metadata": {
        "colab": {
          "base_uri": "https://localhost:8080/",
          "height": 35
        },
        "id": "qZhTAZJyjIRQ",
        "outputId": "4f92a968-f838-415c-96ee-47fbb406d0ff"
      },
      "execution_count": null,
      "outputs": [
        {
          "output_type": "execute_result",
          "data": {
            "text/plain": [
              "'hello my friend how are you'"
            ],
            "application/vnd.google.colaboratory.intrinsic+json": {
              "type": "string"
            }
          },
          "metadata": {},
          "execution_count": 67
        }
      ]
    },
    {
      "cell_type": "code",
      "source": [
        "# Тексты совпадают\n",
        "text_match(\"Привет \", \"Привет\")  "
      ],
      "metadata": {
        "colab": {
          "base_uri": "https://localhost:8080/"
        },
        "id": "Y_v5venhNDey",
        "outputId": "4b6cda38-d74a-425f-d8ef-8f2df3aeae4a"
      },
      "execution_count": null,
      "outputs": [
        {
          "output_type": "execute_result",
          "data": {
            "text/plain": [
              "True"
            ]
          },
          "metadata": {},
          "execution_count": 48
        }
      ]
    },
    {
      "cell_type": "code",
      "source": [
        "# Разный регистр (ToDo: lower)\n",
        "text_match(\"   привет    \", \"Привет\")"
      ],
      "metadata": {
        "colab": {
          "base_uri": "https://localhost:8080/"
        },
        "id": "mCkXZGN7NCxm",
        "outputId": "f752fd09-d57b-4c32-f3e8-f0143e8e7897"
      },
      "execution_count": null,
      "outputs": [
        {
          "output_type": "execute_result",
          "data": {
            "text/plain": [
              "True"
            ]
          },
          "metadata": {},
          "execution_count": 49
        }
      ]
    },
    {
      "cell_type": "code",
      "source": [
        "# Лишние символы (ToDo: regular expressions)\n",
        "text_match(\"Привет!!!\", \"Привет\")  "
      ],
      "metadata": {
        "colab": {
          "base_uri": "https://localhost:8080/"
        },
        "id": "XyYl1qxJOWfE",
        "outputId": "4326a2d9-587c-437a-c50f-fa09f7f68b16"
      },
      "execution_count": null,
      "outputs": [
        {
          "output_type": "execute_result",
          "data": {
            "text/plain": [
              "True"
            ]
          },
          "metadata": {},
          "execution_count": 76
        }
      ]
    },
    {
      "cell_type": "code",
      "source": [
        "# Лишние слова (ToDo: find)\n",
        "text_match(\"Привет, как дела\", \"Привет\")  "
      ],
      "metadata": {
        "colab": {
          "base_uri": "https://localhost:8080/"
        },
        "id": "ElasFTAKOW8g",
        "outputId": "e3497814-254a-4e16-a34c-81f2df23f876"
      },
      "execution_count": null,
      "outputs": [
        {
          "output_type": "execute_result",
          "data": {
            "text/plain": [
              "False"
            ]
          },
          "metadata": {},
          "execution_count": 77
        }
      ]
    },
    {
      "cell_type": "markdown",
      "source": [
        "# День 2\n"
      ],
      "metadata": {
        "id": "hSSID1qhTRst"
      }
    },
    {
      "cell_type": "markdown",
      "source": [
        "# Классификация текстов ML-моделью\n"
      ],
      "metadata": {
        "id": "pqqsdYVxRC4w"
      }
    },
    {
      "cell_type": "code",
      "source": [],
      "metadata": {
        "id": "IekZ2-zqRHKH"
      },
      "execution_count": null,
      "outputs": []
    },
    {
      "cell_type": "markdown",
      "source": [
        "# День 3\n",
        "Бот в Телеграм"
      ],
      "metadata": {
        "id": "MMr2mDwFTVeK"
      }
    },
    {
      "cell_type": "code",
      "source": [],
      "metadata": {
        "id": "9hPPDSAdTYco"
      },
      "execution_count": null,
      "outputs": []
    }
  ]
}